{
 "cells": [
  {
   "cell_type": "code",
   "execution_count": 1,
   "metadata": {},
   "outputs": [
    {
     "ename": "NameError",
     "evalue": "name 'arr_1' is not defined",
     "output_type": "error",
     "traceback": [
      "\u001b[0;31m---------------------------------------------------------------------------\u001b[0m",
      "\u001b[0;31mNameError\u001b[0m                                 Traceback (most recent call last)",
      "Cell \u001b[0;32mIn[1], line 8\u001b[0m\n\u001b[1;32m      6\u001b[0m         \u001b[39mprint\u001b[39m(\u001b[39m\"\u001b[39m\u001b[39mArray with random elements--------\u001b[39m\u001b[39m\"\u001b[39m)\n\u001b[1;32m      7\u001b[0m         \u001b[39mprint\u001b[39m(arr_1)\n\u001b[0;32m----> 8\u001b[0m Random\u001b[39m.\u001b[39;49mrandom_array()\n",
      "Cell \u001b[0;32mIn[1], line 5\u001b[0m, in \u001b[0;36mRandom.random_array\u001b[0;34m()\u001b[0m\n\u001b[1;32m      4\u001b[0m \u001b[39mdef\u001b[39;00m \u001b[39mrandom_array\u001b[39m():\n\u001b[0;32m----> 5\u001b[0m     arr_1\u001b[39m.\u001b[39mnp\u001b[39m.\u001b[39mrandom\u001b[39m.\u001b[39mrandint(\u001b[39m10\u001b[39m,\u001b[39m50\u001b[39m,\u001b[39m10\u001b[39m)\n\u001b[1;32m      6\u001b[0m     \u001b[39mprint\u001b[39m(\u001b[39m\"\u001b[39m\u001b[39mArray with random elements--------\u001b[39m\u001b[39m\"\u001b[39m)\n\u001b[1;32m      7\u001b[0m     \u001b[39mprint\u001b[39m(arr_1)\n",
      "\u001b[0;31mNameError\u001b[0m: name 'arr_1' is not defined"
     ]
    }
   ],
   "source": [
    "import numpy as np\n",
    "import random as rand\n",
    "class Random:\n",
    "    def random_array():\n",
    "        arr_1=np.random.randint(10,50,10)\n",
    "        print(\"Array with random elements--------\")\n",
    "        print(arr_1)\n",
    "Random.random_array()"
   ]
  },
  {
   "cell_type": "code",
   "execution_count": null,
   "metadata": {},
   "outputs": [],
   "source": []
  }
 ],
 "metadata": {
  "kernelspec": {
   "display_name": "Python 3",
   "language": "python",
   "name": "python3"
  },
  "language_info": {
   "codemirror_mode": {
    "name": "ipython",
    "version": 3
   },
   "file_extension": ".py",
   "mimetype": "text/x-python",
   "name": "python",
   "nbconvert_exporter": "python",
   "pygments_lexer": "ipython3",
   "version": "3.10.9"
  },
  "orig_nbformat": 4,
  "vscode": {
   "interpreter": {
    "hash": "e7370f93d1d0cde622a1f8e1c04877d8463912d04d973331ad4851f04de6915a"
   }
  }
 },
 "nbformat": 4,
 "nbformat_minor": 2
}
